{
 "cells": [
  {
   "cell_type": "code",
   "execution_count": 2,
   "metadata": {},
   "outputs": [
    {
     "name": "stdout",
     "output_type": "stream",
     "text": [
      "Processed image saved as processed_frames\\frame_0000.jpg\n",
      "Processed image saved as processed_frames\\frame_0001.jpg\n",
      "Processed image saved as processed_frames\\frame_0002.jpg\n",
      "Processed image saved as processed_frames\\frame_0003.jpg\n"
     ]
    }
   ],
   "source": [
    "import cv2\n",
    "import numpy as np\n",
    "import os\n",
    "\n",
    "# Directories for input images and processed frames\n",
    "input_dir = 'test_images'\n",
    "output_dir = 'processed_frames'\n",
    "os.makedirs(output_dir, exist_ok=True)\n",
    "\n",
    "# Parameters for resizing\n",
    "resize_width = 800\n",
    "resize_height = 600\n",
    "\n",
    "# Get a list of image and video file names in the input directory\n",
    "image_extensions = ['.jpg', '.jpeg', '.png', '.bmp', '.tiff']\n",
    "video_extensions = ['.mp4', '.avi', '.mov', '.mkv']\n",
    "shapefile_extensions = ['.shp', '.shx', '.dbf', '.prj']  # Common shapefile extensions\n",
    "\n",
    "file_names = [f for f in os.listdir(input_dir) if os.path.isfile(os.path.join(input_dir, f))]\n",
    "\n",
    "# Separate image, video, and shapefile files\n",
    "image_files = [f for f in file_names if any(f.lower().endswith(ext) for ext in image_extensions)]\n",
    "video_files = [f for f in file_names if any(f.lower().endswith(ext) for ext in video_extensions)]\n",
    "shapefile_files = [f for f in file_names if any(f.lower().endswith(ext) for ext in shapefile_extensions)]\n",
    "\n",
    "# Function to process and save images\n",
    "def process_and_save_image(image, output_path, resize_width, resize_height):\n",
    "    # Resize the image\n",
    "    resized_image = cv2.resize(image, (resize_width, resize_height))\n",
    "    \n",
    "    # Normalize the pixel values to the range [0, 1]\n",
    "    normalized_image = resized_image / 255.0\n",
    "    \n",
    "    # Convert the normalized image back to the range [0, 255] and ensure it's in uint8 format\n",
    "    processed_image = (normalized_image * 255).astype(np.uint8)\n",
    "    \n",
    "    # Save the processed image in JPEG format\n",
    "    cv2.imwrite(output_path, processed_image)\n",
    "\n",
    "# Process image files\n",
    "for idx, image_file in enumerate(image_files):\n",
    "    input_image_path = os.path.join(input_dir, image_file)\n",
    "    \n",
    "    # Load the image\n",
    "    image = cv2.imread(input_image_path)\n",
    "    \n",
    "    if image is None:\n",
    "        print(f\"Error loading image {input_image_path}\")\n",
    "        continue\n",
    "    \n",
    "    output_image_path = os.path.join(output_dir, f'frame_{idx:04d}.jpg')\n",
    "    process_and_save_image(image, output_image_path, resize_width, resize_height)\n",
    "    print(f\"Processed image saved as {output_image_path}\")\n",
    "\n",
    "# Process video files (if needed, add your video processing code here)\n",
    "\n",
    "# Process shapefiles (if needed, add your shapefile processing code here)\n"
   ]
  }
 ],
 "metadata": {
  "kernelspec": {
   "display_name": "Python 3",
   "language": "python",
   "name": "python3"
  },
  "language_info": {
   "codemirror_mode": {
    "name": "ipython",
    "version": 3
   },
   "file_extension": ".py",
   "mimetype": "text/x-python",
   "name": "python",
   "nbconvert_exporter": "python",
   "pygments_lexer": "ipython3",
   "version": "3.12.2"
  }
 },
 "nbformat": 4,
 "nbformat_minor": 2
}
